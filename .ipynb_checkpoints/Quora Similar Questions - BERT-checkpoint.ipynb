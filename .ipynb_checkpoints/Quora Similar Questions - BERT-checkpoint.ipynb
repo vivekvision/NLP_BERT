{
 "cells": [
  {
   "cell_type": "code",
   "execution_count": 59,
   "id": "bf66f515",
   "metadata": {},
   "outputs": [],
   "source": [
    "import pandas as pd\n",
    "import numpy as np\n",
    "import re"
   ]
  },
  {
   "cell_type": "code",
   "execution_count": 60,
   "id": "eca0414e",
   "metadata": {},
   "outputs": [],
   "source": [
    "from sklearn.metrics.pairwise import cosine_similarity\n",
    "from sklearn.metrics.pairwise import euclidean_distances"
   ]
  },
  {
   "cell_type": "code",
   "execution_count": 61,
   "id": "e118cbe1",
   "metadata": {},
   "outputs": [],
   "source": [
    "from sentence_transformers import SentenceTransformer"
   ]
  },
  {
   "cell_type": "code",
   "execution_count": 62,
   "id": "a4f37b12",
   "metadata": {},
   "outputs": [],
   "source": [
    "from nltk.corpus import stopwords"
   ]
  },
  {
   "cell_type": "code",
   "execution_count": 63,
   "id": "02855162",
   "metadata": {},
   "outputs": [],
   "source": [
    "questions_df = pd.read_csv(\"./QuoraQuestions.csv\")\n",
    "# taken from https://www.kaggle.com/c/quora-question-pairs"
   ]
  },
  {
   "cell_type": "code",
   "execution_count": 64,
   "id": "f62ff7f0",
   "metadata": {},
   "outputs": [
    {
     "data": {
      "text/html": [
       "<div>\n",
       "<style scoped>\n",
       "    .dataframe tbody tr th:only-of-type {\n",
       "        vertical-align: middle;\n",
       "    }\n",
       "\n",
       "    .dataframe tbody tr th {\n",
       "        vertical-align: top;\n",
       "    }\n",
       "\n",
       "    .dataframe thead th {\n",
       "        text-align: right;\n",
       "    }\n",
       "</style>\n",
       "<table border=\"1\" class=\"dataframe\">\n",
       "  <thead>\n",
       "    <tr style=\"text-align: right;\">\n",
       "      <th></th>\n",
       "      <th>question</th>\n",
       "    </tr>\n",
       "  </thead>\n",
       "  <tbody>\n",
       "    <tr>\n",
       "      <th>0</th>\n",
       "      <td>What is the step by step guide to invest in sh...</td>\n",
       "    </tr>\n",
       "    <tr>\n",
       "      <th>1</th>\n",
       "      <td>What is the story of Kohinoor (Koh-i-Noor) Dia...</td>\n",
       "    </tr>\n",
       "    <tr>\n",
       "      <th>2</th>\n",
       "      <td>How can I increase the speed of my internet co...</td>\n",
       "    </tr>\n",
       "    <tr>\n",
       "      <th>3</th>\n",
       "      <td>Why am I mentally very lonely? How can I solve...</td>\n",
       "    </tr>\n",
       "    <tr>\n",
       "      <th>4</th>\n",
       "      <td>Which one dissolve in water quikly sugar, salt...</td>\n",
       "    </tr>\n",
       "  </tbody>\n",
       "</table>\n",
       "</div>"
      ],
      "text/plain": [
       "                                            question\n",
       "0  What is the step by step guide to invest in sh...\n",
       "1  What is the story of Kohinoor (Koh-i-Noor) Dia...\n",
       "2  How can I increase the speed of my internet co...\n",
       "3  Why am I mentally very lonely? How can I solve...\n",
       "4  Which one dissolve in water quikly sugar, salt..."
      ]
     },
     "execution_count": 64,
     "metadata": {},
     "output_type": "execute_result"
    }
   ],
   "source": [
    "questions_df.head()"
   ]
  },
  {
   "cell_type": "code",
   "execution_count": 65,
   "id": "6424757d",
   "metadata": {},
   "outputs": [
    {
     "data": {
      "text/plain": [
       "(404290, 1)"
      ]
     },
     "execution_count": 65,
     "metadata": {},
     "output_type": "execute_result"
    }
   ],
   "source": [
    "questions_df.shape"
   ]
  },
  {
   "cell_type": "code",
   "execution_count": 66,
   "id": "ed4519df",
   "metadata": {},
   "outputs": [],
   "source": [
    "questions_df = questions_df.drop_duplicates()"
   ]
  },
  {
   "cell_type": "code",
   "execution_count": 67,
   "id": "df14b208",
   "metadata": {},
   "outputs": [],
   "source": [
    "# removing stop words from the text\n",
    "stop_words_l=stopwords.words('english')"
   ]
  },
  {
   "cell_type": "code",
   "execution_count": 68,
   "id": "f88e1b1c",
   "metadata": {},
   "outputs": [],
   "source": [
    "questions_df['question_cleaned'] = \\\n",
    "questions_df.question.apply(lambda x: \" \".\\\n",
    "                             join(re.sub(r'[^a-zA-Z]',' ',w).lower() \\\n",
    "                                  for w in str(x).split() if re.sub(r'[^a-zA-Z]',' ',w).lower() not in stop_words_l))"
   ]
  },
  {
   "cell_type": "code",
   "execution_count": 79,
   "id": "aeb2de15",
   "metadata": {},
   "outputs": [],
   "source": [
    "questions_df['question_cleaned'] = questions_df['question_cleaned'].str.lower()"
   ]
  },
  {
   "cell_type": "code",
   "execution_count": 81,
   "id": "958afb21",
   "metadata": {},
   "outputs": [],
   "source": [
    "# to save time, samller set\n",
    "questions_df = questions_df[:10000]"
   ]
  },
  {
   "cell_type": "code",
   "execution_count": 82,
   "id": "2d1ec6c9",
   "metadata": {},
   "outputs": [
    {
     "data": {
      "text/plain": [
       "10000"
      ]
     },
     "execution_count": 82,
     "metadata": {},
     "output_type": "execute_result"
    }
   ],
   "source": [
    "len(questions_df)"
   ]
  },
  {
   "cell_type": "code",
   "execution_count": 83,
   "id": "99b26ae2",
   "metadata": {},
   "outputs": [],
   "source": [
    "embedder = SentenceTransformer('bert-base-nli-mean-tokens')"
   ]
  },
  {
   "cell_type": "code",
   "execution_count": null,
   "id": "0aedd0cb",
   "metadata": {},
   "outputs": [],
   "source": [
    "corpus_embeddings = embedder.encode(questions_df['question_cleaned'].tolist())"
   ]
  },
  {
   "cell_type": "code",
   "execution_count": null,
   "id": "a43262ae",
   "metadata": {},
   "outputs": [],
   "source": [
    "pairwise_similarities=cosine_similarity(corpus_embeddings)\n",
    "pairwise_differences=euclidean_distances(corpus_embeddings)"
   ]
  },
  {
   "cell_type": "code",
   "execution_count": null,
   "id": "92291620",
   "metadata": {},
   "outputs": [],
   "source": [
    "pairwise_differences.shape"
   ]
  },
  {
   "cell_type": "code",
   "execution_count": null,
   "id": "53086e1a",
   "metadata": {},
   "outputs": [],
   "source": [
    "pairwise_similarities.shape"
   ]
  },
  {
   "cell_type": "code",
   "execution_count": null,
   "id": "8ec884fd",
   "metadata": {},
   "outputs": [],
   "source": [
    "# Cosine Similarity for first document \n",
    "i = 1  # document serial number  in corpus\n",
    "print (f'Document: {questions_df.iloc[i][\"question\"]}')\n",
    "print ('\\n')\n",
    "print (f'Similar Documents using Cosine Similarity:')\n",
    "similar_ix=np.argsort(pairwise_similarities[i])[::-1]\n",
    "for ix in similar_ix:\n",
    "        if ix==i:\n",
    "            continue\n",
    "        print('\\n')\n",
    "        print (f'Document: {questions_df.iloc[ix][\"question\"]}')\n",
    "        print (f'Cosine Similarity : {pairwise_similarities[i][ix]}')"
   ]
  },
  {
   "cell_type": "code",
   "execution_count": null,
   "id": "54fe0690",
   "metadata": {},
   "outputs": [],
   "source": [
    "# Euclidean Distance for first document\n",
    "i = 1  # document serial number  in corpus\n",
    "print (f'Document: {questions_df.iloc[i][\"question\"]}')\n",
    "print ('\\n')\n",
    "print (f'Similar Documents using Cosine Similarity:')\n",
    "difference_ix=np.argsort(pairwise_differences[i])\n",
    "for ix in difference_ix:\n",
    "        if ix==i:\n",
    "            continue\n",
    "        print('\\n')\n",
    "        print (f'Document: {questions_df.iloc[ix][\"question\"]}')\n",
    "        print (f'Euclidean Distance : {pairwise_differences[i][ix]}')"
   ]
  },
  {
   "cell_type": "code",
   "execution_count": null,
   "id": "031b732d",
   "metadata": {},
   "outputs": [],
   "source": []
  },
  {
   "cell_type": "code",
   "execution_count": null,
   "id": "23c09bc2",
   "metadata": {},
   "outputs": [],
   "source": []
  }
 ],
 "metadata": {
  "kernelspec": {
   "display_name": "Python 3 (ipykernel)",
   "language": "python",
   "name": "python3"
  },
  "language_info": {
   "codemirror_mode": {
    "name": "ipython",
    "version": 3
   },
   "file_extension": ".py",
   "mimetype": "text/x-python",
   "name": "python",
   "nbconvert_exporter": "python",
   "pygments_lexer": "ipython3",
   "version": "3.9.7"
  }
 },
 "nbformat": 4,
 "nbformat_minor": 5
}
